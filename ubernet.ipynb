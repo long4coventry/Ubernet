{
  "cells": [
    {
      "cell_type": "markdown",
      "source": [
        "## **Ubernet: Predicting short-term demand of hail-riding service**"
      ],
      "metadata": {
        "id": "0vAnyc3cLa5d"
      }
    },
    {
      "cell_type": "markdown",
      "source": [
        "The purpose of this blog is to describe the deep learning Convolutional Neural Network (CNN) for the short-term demand prediction of ride-hailing services, using spatio-temporal data of Uber pickups in new York City (DNN parameters of the convolutional layers and a WaveNet-like DCNN(Dilated Convoluted Neural Network) used for a time-series problem."
      ],
      "metadata": {
        "id": "9fMxp4PPMBui"
      }
    },
    {
      "cell_type": "code",
      "source": [
        "import pandas as pd\n",
        "import numpy as np\n",
        "from datetime import datetime\n",
        "import seaborn as sns; sns.set()\n",
        "import matplotlib.pyplot as plt\n",
        "\n",
        "import tensorflow as tf\n",
        "from tensorflow import keras\n",
        "assert tf.__version__ >= \"2.0\""
      ],
      "metadata": {
        "id": "2COLia-yL_5M"
      },
      "execution_count": 1,
      "outputs": []
    },
    {
      "cell_type": "code",
      "execution_count": 2,
      "metadata": {
        "id": "6kXucI_5UVub"
      },
      "outputs": [],
      "source": [
        "train = pd.read_csv('/home/data.csv')\n"
      ]
    },
    {
      "cell_type": "markdown",
      "source": [
        "The objective is to forecast the next time step using past observations. Before fitting the model, it is necessary to partition the dataset into input and output windows. The objective is to forecast the output by utilising the inputs (previous observations) (future). The Uber raw data is derived from NYC Taxi & Limousine Commission (TLC) 2, which contains over 4.5365\n",
        "million Uber pickups in New York City. The data is available as follows:\n",
        "\n",
        "https://www1.nyc.gov/site/tlc/index.page\n",
        "\n",
        "The data was given in terms of per second basis and we have performed a groupby operation, which leads to roughly 1.5 million datapoints. The last month data was used for test and the rest are for training. With respect to the data input, 4 basic date-based features are engineered. In addition, we also have created 4 lag(2) features. The target variable is also transformed in order to facilitate the prediction, so the RMSE needs to be rescaled when calculating the original pickups with varying intervals."
      ],
      "metadata": {
        "id": "iQTmMpbAMq7k"
      }
    },
    {
      "cell_type": "code",
      "execution_count": 3,
      "metadata": {
        "colab": {
          "base_uri": "https://localhost:8080/"
        },
        "id": "JvgyOMfiRhiB",
        "outputId": "a9c2c76e-51e6-4676-a6fd-3ddff26ca09c"
      },
      "outputs": [
        {
          "output_type": "stream",
          "name": "stdout",
          "text": [
            "[[3.0000000e+00 3.0000000e+00 0.0000000e+00 0.0000000e+00 0.0000000e+00]\n",
            " [5.0000000e+00 3.0000000e+00 0.0000000e+00 0.0000000e+00 2.7777778e-03]\n",
            " [6.0000000e+00 3.0000000e+00 0.0000000e+00 0.0000000e+00 5.5555557e-03]\n",
            " ...\n",
            " [0.0000000e+00 1.0000000e+00 0.0000000e+00 2.3000000e+01 4.3439775e+03]\n",
            " [0.0000000e+00 1.0000000e+00 0.0000000e+00 2.3000000e+01 4.3439805e+03]\n",
            " [6.2000000e+01 1.0000000e+00 0.0000000e+00 2.3000000e+01 4.3439834e+03]]\n",
            "   var1(t-2)  var2(t-2)  var3(t-2)  var4(t-2)     var5(t-2)  var1(t-1)  \\\n",
            "2   0.014085        0.5        0.0        0.0  0.000000e+00   0.023474   \n",
            "3   0.023474        0.5        0.0        0.0  6.394541e-07   0.028169   \n",
            "4   0.028169        0.5        0.0        0.0  1.278908e-06   0.042254   \n",
            "5   0.042254        0.5        0.0        0.0  1.918362e-06   0.018779   \n",
            "6   0.018779        0.5        0.0        0.0  2.557816e-06   0.018779   \n",
            "\n",
            "   var2(t-1)  var3(t-1)  var4(t-1)     var5(t-1)   var1(t)  var2(t)  var3(t)  \\\n",
            "2        0.5        0.0        0.0  6.394541e-07  0.028169      0.5      0.0   \n",
            "3        0.5        0.0        0.0  1.278908e-06  0.042254      0.5      0.0   \n",
            "4        0.5        0.0        0.0  1.918362e-06  0.018779      0.5      0.0   \n",
            "5        0.5        0.0        0.0  2.557816e-06  0.018779      0.5      0.0   \n",
            "6        0.5        0.0        0.0  3.197270e-06  0.023474      0.5      0.0   \n",
            "\n",
            "   var4(t)   var5(t)  \n",
            "2      0.0  0.000001  \n",
            "3      0.0  0.000002  \n",
            "4      0.0  0.000003  \n",
            "5      0.0  0.000003  \n",
            "6      0.0  0.000004  \n"
          ]
        }
      ],
      "source": [
        "\n",
        "from math import sqrt\n",
        "from numpy import concatenate\n",
        "from matplotlib import pyplot\n",
        "from pandas import read_csv\n",
        "from pandas import DataFrame\n",
        "from pandas import concat\n",
        "from sklearn.preprocessing import MinMaxScaler\n",
        "from sklearn.preprocessing import LabelEncoder\n",
        "from sklearn.metrics import mean_squared_error\n",
        "from keras.models import Sequential\n",
        "from keras.layers import Dense\n",
        "from keras.layers import LSTM\n",
        "from keras.models import Model \n",
        "from keras.layers import Input, Conv1D, Dense, Dropout, Lambda, concatenate\n",
        "\n",
        "# convert series to supervised learning\n",
        "def series_to_supervised(data, n_in=1, n_out=1, dropnan=True):\n",
        "\tn_vars = 1 if type(data) is list else data.shape[1]\n",
        "\tdf = DataFrame(data)\n",
        "\tcols, names = list(), list()\n",
        "\t# input sequence (t-n, ... t-1)\n",
        "\tfor i in range(n_in, 0, -1):\n",
        "\t\tcols.append(df.shift(i))\n",
        "\t\tnames += [('var%d(t-%d)' % (j+1, i)) for j in range(n_vars)]\n",
        "\t# forecast sequence (t, t+1, ... t+n)\n",
        "\tfor i in range(0, n_out):\n",
        "\t\tcols.append(df.shift(-i))\n",
        "\t\tif i == 0:\n",
        "\t\t\tnames += [('var%d(t)' % (j+1)) for j in range(n_vars)]\n",
        "\t\telse:\n",
        "\t\t\tnames += [('var%d(t+%d)' % (j+1, i)) for j in range(n_vars)]\n",
        "\t# put it all together\n",
        "\tagg = concat(cols, axis=1)\n",
        "\tagg.columns = names\n",
        "\t# drop rows with NaN values\n",
        "\tif dropnan:\n",
        "\t\tagg.dropna(inplace=True)\n",
        "\treturn agg\n",
        " \n",
        "# load dataset\n",
        "dataset = read_csv('/home/data.csv', header=0, index_col=0)\n",
        "values = dataset.values\n",
        "# integer encode direction\n",
        "# encoder = LabelEncoder()\n",
        "# values[:,4] = encoder.fit_transform(values[:,4])\n",
        "# ensure all data is float\n",
        "values = values.astype('float32')\n",
        "# normalize features\n",
        "scaler = MinMaxScaler(feature_range=(0, 1))\n",
        "scaled = scaler.fit_transform(values)\n",
        "# frame as supervised learning\n",
        "reframed = series_to_supervised(scaled, 2, 1)\n",
        "# drop columns we don't want to predict\n",
        "# reframed.drop(reframed.columns[[13,14,15]], axis=1, inplace=True)\n",
        "print(values)\n",
        "print(reframed.head())"
      ]
    },
    {
      "cell_type": "code",
      "source": [
        "\n",
        "reframed = reframed[['var1(t-2)', 'var2(t-2)', 'var3(t-2)', 'var4(t-2)', 'var5(t-2)', 'var1(t-1)', 'var2(t-1)', 'var3(t-1)', 'var4(t-1)', 'var5(t-1)',  'var2(t)', 'var3(t)', 'var4(t)', 'var5(t)','var1(t)']]"
      ],
      "metadata": {
        "id": "bBsjeKQLLKNn"
      },
      "execution_count": 4,
      "outputs": []
    },
    {
      "cell_type": "code",
      "source": [
        "cols =reframed.columns.tolist()\n",
        "print(cols)"
      ],
      "metadata": {
        "colab": {
          "base_uri": "https://localhost:8080/"
        },
        "id": "7jY1CvY8T41n",
        "outputId": "cd4eb874-4315-41e3-9576-db15585192b9"
      },
      "execution_count": 5,
      "outputs": [
        {
          "output_type": "stream",
          "name": "stdout",
          "text": [
            "['var1(t-2)', 'var2(t-2)', 'var3(t-2)', 'var4(t-2)', 'var5(t-2)', 'var1(t-1)', 'var2(t-1)', 'var3(t-1)', 'var4(t-1)', 'var5(t-1)', 'var2(t)', 'var3(t)', 'var4(t)', 'var5(t)', 'var1(t)']\n"
          ]
        }
      ]
    },
    {
      "cell_type": "markdown",
      "source": [
        ""
      ],
      "metadata": {
        "id": "9VmODEPWLZXU"
      }
    },
    {
      "cell_type": "code",
      "execution_count": 6,
      "metadata": {
        "colab": {
          "base_uri": "https://localhost:8080/"
        },
        "id": "AX3iHEOkTrm0",
        "outputId": "d38e3750-780b-4715-e738-a1c1e3ad425d"
      },
      "outputs": [
        {
          "output_type": "stream",
          "name": "stdout",
          "text": [
            "[0.02816901 0.04225352 0.01877934 ... 0.         0.26760563 0.        ]\n",
            "[[0.26760563 0.         0.         ... 0.         0.86956525 0.33609834]\n",
            " [0.         0.         0.         ... 0.         0.86956525 0.33609897]\n",
            " [0.         0.         0.         ... 0.         0.86956525 0.3360996 ]\n",
            " ...\n",
            " [0.         0.16666667 0.         ... 0.         1.         0.9999986 ]\n",
            " [0.         0.16666667 0.         ... 0.         1.         0.9999993 ]\n",
            " [0.         0.16666667 0.         ... 0.         1.         1.        ]]\n",
            "(525600, 1, 14) (525600,) (1038232, 1, 14) (1038232,)\n"
          ]
        }
      ],
      "source": [
        "# split into train and test sets, the last month's data is used as test and the rest are train\n",
        "values = reframed.values\n",
        "n_train_hours = 365 * 24*60\n",
        "train = values[:n_train_hours, :]\n",
        "test = values[n_train_hours:, :]\n",
        "# split into input and outputs\n",
        "train_X, train_y = train[:,:-1], train[:, -1]\n",
        "test_X, test_y = test[:, :-1], test[:, -1]\n",
        "print(train_y)\n",
        "print(test_X)\n",
        "# reshape input to be 3D [samples, timesteps, features]\n",
        "train_X = train_X.reshape((train_X.shape[0], 1, train_X.shape[1]))\n",
        "test_X = test_X.reshape((test_X.shape[0], 1, test_X.shape[1]))\n",
        "print(train_X.shape, train_y.shape, test_X.shape, test_y.shape)"
      ]
    },
    {
      "cell_type": "code",
      "execution_count": 7,
      "metadata": {
        "colab": {
          "base_uri": "https://localhost:8080/",
          "height": 1000
        },
        "id": "sHE94YTKT8pE",
        "outputId": "c50e7158-0e68-44e8-95e7-ef0e410a1b07"
      },
      "outputs": [
        {
          "output_type": "stream",
          "name": "stdout",
          "text": [
            "Epoch 1/30\n",
            "4107/4107 - 47s - loss: 0.0181 - val_loss: 0.0637 - 47s/epoch - 11ms/step\n",
            "Epoch 2/30\n",
            "4107/4107 - 22s - loss: 0.0157 - val_loss: 0.0648 - 22s/epoch - 5ms/step\n",
            "Epoch 3/30\n",
            "4107/4107 - 22s - loss: 0.0155 - val_loss: 0.0615 - 22s/epoch - 5ms/step\n",
            "Epoch 4/30\n",
            "4107/4107 - 32s - loss: 0.0153 - val_loss: 0.0557 - 32s/epoch - 8ms/step\n",
            "Epoch 5/30\n",
            "4107/4107 - 22s - loss: 0.0151 - val_loss: 0.0538 - 22s/epoch - 5ms/step\n",
            "Epoch 6/30\n",
            "4107/4107 - 23s - loss: 0.0147 - val_loss: 0.0538 - 23s/epoch - 6ms/step\n",
            "Epoch 7/30\n",
            "4107/4107 - 32s - loss: 0.0147 - val_loss: 0.0542 - 32s/epoch - 8ms/step\n",
            "Epoch 8/30\n",
            "4107/4107 - 31s - loss: 0.0146 - val_loss: 0.0543 - 31s/epoch - 8ms/step\n",
            "Epoch 9/30\n",
            "4107/4107 - 23s - loss: 0.0144 - val_loss: 0.0544 - 23s/epoch - 6ms/step\n",
            "Epoch 10/30\n",
            "4107/4107 - 22s - loss: 0.0142 - val_loss: 0.0552 - 22s/epoch - 5ms/step\n",
            "Epoch 11/30\n",
            "4107/4107 - 22s - loss: 0.0141 - val_loss: 0.0556 - 22s/epoch - 5ms/step\n",
            "Epoch 12/30\n",
            "4107/4107 - 22s - loss: 0.0141 - val_loss: 0.0562 - 22s/epoch - 5ms/step\n",
            "Epoch 13/30\n",
            "4107/4107 - 32s - loss: 0.0141 - val_loss: 0.0561 - 32s/epoch - 8ms/step\n",
            "Epoch 14/30\n",
            "4107/4107 - 33s - loss: 0.0140 - val_loss: 0.0563 - 33s/epoch - 8ms/step\n",
            "Epoch 15/30\n",
            "4107/4107 - 31s - loss: 0.0140 - val_loss: 0.0564 - 31s/epoch - 8ms/step\n",
            "Epoch 16/30\n",
            "4107/4107 - 31s - loss: 0.0140 - val_loss: 0.0567 - 31s/epoch - 8ms/step\n",
            "Epoch 17/30\n",
            "4107/4107 - 21s - loss: 0.0140 - val_loss: 0.0562 - 21s/epoch - 5ms/step\n",
            "Epoch 18/30\n",
            "4107/4107 - 31s - loss: 0.0139 - val_loss: 0.0563 - 31s/epoch - 8ms/step\n",
            "Epoch 19/30\n",
            "4107/4107 - 31s - loss: 0.0139 - val_loss: 0.0564 - 31s/epoch - 8ms/step\n",
            "Epoch 20/30\n",
            "4107/4107 - 22s - loss: 0.0139 - val_loss: 0.0565 - 22s/epoch - 5ms/step\n",
            "Epoch 21/30\n",
            "4107/4107 - 22s - loss: 0.0139 - val_loss: 0.0560 - 22s/epoch - 5ms/step\n",
            "Epoch 22/30\n",
            "4107/4107 - 32s - loss: 0.0138 - val_loss: 0.0565 - 32s/epoch - 8ms/step\n",
            "Epoch 23/30\n",
            "4107/4107 - 22s - loss: 0.0139 - val_loss: 0.0566 - 22s/epoch - 5ms/step\n",
            "Epoch 24/30\n",
            "4107/4107 - 31s - loss: 0.0138 - val_loss: 0.0561 - 31s/epoch - 8ms/step\n",
            "Epoch 25/30\n",
            "4107/4107 - 31s - loss: 0.0138 - val_loss: 0.0567 - 31s/epoch - 8ms/step\n",
            "Epoch 26/30\n",
            "4107/4107 - 31s - loss: 0.0138 - val_loss: 0.0560 - 31s/epoch - 8ms/step\n",
            "Epoch 27/30\n",
            "4107/4107 - 22s - loss: 0.0138 - val_loss: 0.0563 - 22s/epoch - 5ms/step\n",
            "Epoch 28/30\n",
            "4107/4107 - 31s - loss: 0.0138 - val_loss: 0.0564 - 31s/epoch - 7ms/step\n",
            "Epoch 29/30\n",
            "4107/4107 - 21s - loss: 0.0138 - val_loss: 0.0563 - 21s/epoch - 5ms/step\n",
            "Epoch 30/30\n",
            "4107/4107 - 31s - loss: 0.0138 - val_loss: 0.0569 - 31s/epoch - 8ms/step\n"
          ]
        },
        {
          "output_type": "display_data",
          "data": {
            "text/plain": [
              "<Figure size 432x288 with 1 Axes>"
            ],
            "image/png": "[encoded data removed]"
          },
          "metadata": {
            "needs_background": "light"
          }
        }
      ],
      "source": [
        "# The baseline model that uses LSTM\n",
        "\n",
        "\n",
        "from numpy import array\n",
        "from numpy import hstack\n",
        "from keras.models import Sequential\n",
        "from keras.layers import Dense\n",
        "from keras.layers import Flatten\n",
        "from keras.layers.convolutional import Conv1D\n",
        "from keras.layers.convolutional import MaxPooling1D\n",
        "\n",
        "# design network\n",
        "model = Sequential()\n",
        "model.add(LSTM(5, return_sequences=True, input_shape=(train_X.shape[1], train_X.shape[2])))\n",
        "# print(train_X.shape[1], train_X.shape[2])\n",
        "# model.add(Dense(5,activation ='relu'))\n",
        "# model.add(LSTM(5, return_sequences=True))\n",
        "# model.add(Dense(5,activation ='relu'))\n",
        "# model.add(LSTM(5))\n",
        "# model.add(Dense(5,activation ='relu'))\n",
        "model.add(Dense(1, activation=\"tanh\"))\n",
        "model.compile(loss='mae', optimizer='adam')\n",
        "# fit network\n",
        "history = model.fit(train_X, train_y, epochs=30, batch_size=128, validation_data=(test_X, test_y), verbose=2, shuffle=False)\n",
        "# plot history\n",
        "pyplot.plot(history.history['loss'], label='train')\n",
        "pyplot.plot(history.history['val_loss'], label='test')\n",
        "pyplot.legend()\n",
        "pyplot.show()"
      ]
    },
    {
      "cell_type": "code",
      "source": [
        "# make a prediction\n",
        "yhat = model.predict(test_X)\n",
        "yhat = yhat.reshape(yhat.shape[0])\n",
        "# invert scaling for forecast\n",
        "rmse = sqrt(mean_squared_error(yhat, test_y))\n",
        "print('Test RMSE: %.2f' % rmse)"
      ],
      "metadata": {
        "id": "ak8WOblfcFPx",
        "colab": {
          "base_uri": "https://localhost:8080/"
        },
        "outputId": "73f6ab02-4642-4258-ffca-f1eef66c5edc"
      },
      "execution_count": 9,
      "outputs": [
        {
          "output_type": "stream",
          "name": "stdout",
          "text": [
            "Test RMSE: 0.13\n"
          ]
        }
      ]
    },
    {
      "cell_type": "markdown",
      "source": [
        "Through the use of a separate cell controlled by input and forget gates, LSTMs enable long-term memory. This enables information to flow freely through a potentially infinite number of timesteps. Without these gates, information could easily vanish during each timestep's transformations.\n",
        "\n",
        "Convolutional networks, on the other hand, do not exhibit the same type of vanishing gradient, and we demonstrate experimentally that they do not require forget gates. As a result, we consider models with only output gates, which enable the network to determine which information should be propagated through the layer hierarchy."
      ],
      "metadata": {
        "id": "Tx4gUhNbQFRe"
      }
    },
    {
      "cell_type": "code",
      "execution_count": 10,
      "metadata": {
        "id": "epgW_c48UVuc"
      },
      "outputs": [],
      "source": [
        "class GatedActivationUnit(keras.layers.Layer):\n",
        "    def __init__(self, activation=\"tanh\", **kwargs):\n",
        "        super().__init__(**kwargs)\n",
        "        self.activation = keras.activations.get(activation)\n",
        "        \n",
        "    def get_config(self):\n",
        "        config = super().get_config().copy()\n",
        "        config.update({\n",
        "            'activation': self.activation,\n",
        "        })\n",
        "        return config \n",
        "    \n",
        "    def call(self, inputs):\n",
        "        n_filters = inputs.shape[-1] // 2\n",
        "        linear_output = self.activation(inputs[..., :n_filters])\n",
        "        gate = keras.activations.sigmoid(inputs[..., n_filters:])\n",
        "        return self.activation(linear_output) * gate"
      ]
    },
    {
      "cell_type": "markdown",
      "metadata": {
        "id": "FHyHCRselVH0"
      },
      "source": [
        "## The Ubernet architecture"
      ]
    },
    {
      "cell_type": "code",
      "execution_count": 12,
      "metadata": {
        "id": "3uf_UgJpIrXI",
        "colab": {
          "base_uri": "https://localhost:8080/",
          "height": 962
        },
        "outputId": "2eb9bdd5-d131-486d-9236-0e826ef26d92"
      },
      "outputs": [
        {
          "output_type": "stream",
          "name": "stdout",
          "text": [
            "Epoch 1/20\n",
            "7300/7300 - 49s - loss: 0.0212 - val_loss: 0.0455 - 49s/epoch - 7ms/step\n",
            "Epoch 2/20\n",
            "7300/7300 - 48s - loss: 0.0227 - val_loss: 0.0451 - 48s/epoch - 7ms/step\n",
            "Epoch 3/20\n",
            "7300/7300 - 45s - loss: 0.0227 - val_loss: 0.0450 - 45s/epoch - 6ms/step\n",
            "Epoch 4/20\n",
            "7300/7300 - 45s - loss: 0.0225 - val_loss: 0.0449 - 45s/epoch - 6ms/step\n",
            "Epoch 5/20\n",
            "7300/7300 - 66s - loss: 0.0228 - val_loss: 0.0451 - 66s/epoch - 9ms/step\n",
            "Epoch 6/20\n",
            "7300/7300 - 67s - loss: 0.0226 - val_loss: 0.0451 - 67s/epoch - 9ms/step\n",
            "Epoch 7/20\n",
            "7300/7300 - 73s - loss: 0.0228 - val_loss: 0.0451 - 73s/epoch - 10ms/step\n",
            "Epoch 8/20\n",
            "7300/7300 - 69s - loss: 0.0228 - val_loss: 0.0450 - 69s/epoch - 9ms/step\n",
            "Epoch 9/20\n",
            "7300/7300 - 50s - loss: 0.0228 - val_loss: 0.0451 - 50s/epoch - 7ms/step\n",
            "Epoch 10/20\n",
            "7300/7300 - 67s - loss: 0.0228 - val_loss: 0.0451 - 67s/epoch - 9ms/step\n",
            "Epoch 11/20\n",
            "7300/7300 - 66s - loss: 0.0228 - val_loss: 0.0451 - 66s/epoch - 9ms/step\n",
            "Epoch 12/20\n",
            "7300/7300 - 47s - loss: 0.0228 - val_loss: 0.0450 - 47s/epoch - 6ms/step\n",
            "Epoch 13/20\n",
            "7300/7300 - 46s - loss: 0.0228 - val_loss: 0.0451 - 46s/epoch - 6ms/step\n",
            "Epoch 14/20\n",
            "7300/7300 - 47s - loss: 0.0228 - val_loss: 0.0451 - 47s/epoch - 6ms/step\n",
            "Epoch 15/20\n",
            "7300/7300 - 68s - loss: 0.0228 - val_loss: 0.0451 - 68s/epoch - 9ms/step\n",
            "Epoch 16/20\n",
            "7300/7300 - 67s - loss: 0.0228 - val_loss: 0.0450 - 67s/epoch - 9ms/step\n",
            "Epoch 17/20\n",
            "7300/7300 - 50s - loss: 0.0228 - val_loss: 0.0451 - 50s/epoch - 7ms/step\n",
            "Epoch 18/20\n",
            "7300/7300 - 49s - loss: 0.0228 - val_loss: 0.0451 - 49s/epoch - 7ms/step\n",
            "Epoch 19/20\n",
            "7300/7300 - 47s - loss: 0.0228 - val_loss: 0.0451 - 47s/epoch - 6ms/step\n",
            "Epoch 20/20\n",
            "7300/7300 - 51s - loss: 0.0228 - val_loss: 0.0450 - 51s/epoch - 7ms/step\n"
          ]
        },
        {
          "output_type": "display_data",
          "data": {
            "text/plain": [
              "<Figure size 432x288 with 1 Axes>"
            ],
            "image/png": "[encoded data removed]"
          },
          "metadata": {
            "needs_background": "light"
          }
        }
      ],
      "source": [
        "#p = \"valid\" \n",
        "from keras.models import Sequential\n",
        "from keras.layers import Dense\n",
        "from keras.layers import LSTM\n",
        "from keras.models import Model\n",
        "from tensorflow.keras.optimizers import Adam\n",
        "# from keras.layers.normalization import BatchNormalization\n",
        "p='causal' # this only works in 1.12+ -- December 2018+\n",
        "\n",
        "model2 = Sequential([\n",
        "    #Conv1D(filters=n_filters, kernel_size=filter_width, padding='causal', dilation_rate=1),\n",
        "    # padding= One of \"valid\" or \"same\"\n",
        "    #Input(shape=(None, 1)), \n",
        "    #Input(shape=(None, num_x_signals)), This is not for Sequential\n",
        "    Conv1D(filters=32, input_shape=( None, train_X.shape[2]), \n",
        "           kernel_size=1, padding='causal', dilation_rate=1),\n",
        "    # BatchNormalization(),\n",
        "    GatedActivationUnit(),\n",
        "    Dropout(.5),\n",
        "    Conv1D(filters=32, kernel_size=1, padding=p, dilation_rate=4),\n",
        "    GatedActivationUnit(),\n",
        "    # BatchNormalization(),\n",
        "    Dropout(.5),\n",
        "    Conv1D(filters=32, kernel_size=1, padding=p, dilation_rate=8),\n",
        "    GatedActivationUnit(),\n",
        "    Dense(50, activation=\"relu\"), #model.add(Dense(num_y_signals, activation=\"tanh\"))   #'sigmoid'))\n",
        "    Dropout(.2),\n",
        "    Dense(1, activation=\"tanh\") \n",
        "    #Dense(1),\n",
        "    \n",
        "])\n",
        "\n",
        "\n",
        "#optimizer = tf.train.RMSPropOptimizer(0.001)\n",
        "\n",
        "model2.compile(Adam(), loss='mean_absolute_error')\n",
        "\n",
        "# fit network\n",
        "history = model2.fit(train_X, train_y, epochs=20, batch_size=72, validation_data=(test_X, test_y), verbose=2, shuffle=False)\n",
        "# plot history\n",
        "pyplot.plot(history.history['loss'], label='train')\n",
        "pyplot.plot(history.history['val_loss'], label='test')\n",
        "pyplot.legend()\n",
        "pyplot.show()\n"
      ]
    },
    {
      "cell_type": "code",
      "source": [
        "yhat = model2.predict(test_X)\n",
        "yhat = yhat.reshape(yhat.shape[0])\n",
        "# invert scaling for forecast\n",
        "rmse = sqrt(mean_squared_error(yhat, test_y))\n",
        "print('Test RMSE: %.3f' % rmse)"
      ],
      "metadata": {
        "id": "K0OerguRdhCj",
        "colab": {
          "base_uri": "https://localhost:8080/"
        },
        "outputId": "b32c7a67-2722-46e7-963c-ced7529ea5bd"
      },
      "execution_count": 13,
      "outputs": [
        {
          "output_type": "stream",
          "name": "stdout",
          "text": [
            "Test RMSE: 0.126\n"
          ]
        }
      ]
    },
    {
      "cell_type": "code",
      "source": [
        ""
      ],
      "metadata": {
        "id": "3kh7znERevzD"
      },
      "execution_count": null,
      "outputs": []
    }
  ],
  "metadata": {
    "colab": {
      "name": "2-wavenet-swa.ipynb",
      "provenance": []
    },
    "kernelspec": {
      "display_name": "Python 2",
      "language": "python",
      "name": "python2"
    },
    "language_info": {
      "codemirror_mode": {
        "name": "ipython",
        "version": 2
      },
      "file_extension": ".py",
      "mimetype": "text/x-python",
      "name": "python",
      "nbconvert_exporter": "python",
      "pygments_lexer": "ipython2",
      "version": "2.7.15"
    }
  },
  "nbformat": 4,
  "nbformat_minor": 0
}