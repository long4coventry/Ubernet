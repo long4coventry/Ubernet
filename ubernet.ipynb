{
  "cells": [
    {
      "cell_type": "markdown",
      "source": [
        "## **Ubernet: Predicting short-term demand of hail-riding service**"
      ],
      "metadata": {
        "id": "0vAnyc3cLa5d"
      }
    },
    {
      "cell_type": "markdown",
      "source": [
        "The purpose of this blog is to describe the deep learning Convolutional Neural Network (CNN) for the short-term demand prediction of ride-hailing services, using spatio-temporal data of Uber pickups in new York City (DNN parameters of the convolutional layers and a WaveNet-like DCNN(Dilated Convoluted Neural Network) used for a time-series problem."
      ],
      "metadata": {
        "id": "9fMxp4PPMBui"
      }
    },
    {
      "cell_type": "code",
      "source": [
        "import pandas as pd\n",
        "import numpy as np\n",
        "from datetime import datetime\n",
        "import seaborn as sns; sns.set()\n",
        "import matplotlib.pyplot as plt\n",
        "\n",
        "import tensorflow as tf\n",
        "from tensorflow import keras\n",
        "assert tf.__version__ >= \"2.0\""
      ],
      "metadata": {
        "id": "2COLia-yL_5M"
      },
      "execution_count": 1,
      "outputs": []
    },
    {
      "cell_type": "code",
      "execution_count": 2,
      "metadata": {
        "id": "6kXucI_5UVub"
      },
      "outputs": [],
      "source": [
        "train = pd.read_csv('/home/data.csv')\n"
      ]
    },
    {
      "cell_type": "markdown",
      "source": [
        "The objective is to forecast the next time step using past observations. Before fitting the model, it is necessary to partition the dataset into input and output windows. The objective is to forecast the output by utilising the inputs (previous observations) (future). The Uber raw data is derived from NYC Taxi & Limousine Commission (TLC) 2, which contains over 4.5365\n",
        "million Uber pickups in New York City. The data is available as follows:\n",
        "\n",
        "https://www1.nyc.gov/site/tlc/index.page\n"
      ],
      "metadata": {
        "id": "iQTmMpbAMq7k"
      }
    },
    {
      "cell_type": "code",
      "execution_count": 3,
      "metadata": {
        "colab": {
          "base_uri": "https://localhost:8080/"
        },
        "id": "JvgyOMfiRhiB",
        "outputId": "57de63e2-566c-4283-91c6-3fe6385a41a6"
      },
      "outputs": [
        {
          "output_type": "stream",
          "name": "stdout",
          "text": [
            "   var1(t-1)  var2(t-1)  var3(t-1)  var4(t-1)     var5(t-1)   var1(t)  \\\n",
            "1   0.014925        0.5        0.0        0.0  0.000000e+00  0.024876   \n",
            "2   0.024876        0.5        0.0        0.0  6.527624e-07  0.029851   \n",
            "3   0.029851        0.5        0.0        0.0  1.305525e-06  0.044776   \n",
            "4   0.044776        0.5        0.0        0.0  1.958287e-06  0.019900   \n",
            "5   0.019900        0.5        0.0        0.0  2.611049e-06  0.019900   \n",
            "\n",
            "        var5(t)  \n",
            "1  6.527624e-07  \n",
            "2  1.305525e-06  \n",
            "3  1.958287e-06  \n",
            "4  2.611049e-06  \n",
            "5  3.263812e-06  \n"
          ]
        }
      ],
      "source": [
        "\n",
        "from math import sqrt\n",
        "from numpy import concatenate\n",
        "from matplotlib import pyplot\n",
        "from pandas import read_csv\n",
        "from pandas import DataFrame\n",
        "from pandas import concat\n",
        "from sklearn.preprocessing import MinMaxScaler\n",
        "from sklearn.preprocessing import LabelEncoder\n",
        "from sklearn.metrics import mean_squared_error\n",
        "from keras.models import Sequential\n",
        "from keras.layers import Dense\n",
        "from keras.layers import LSTM\n",
        "from keras.models import Model \n",
        "from keras.layers import Input, Conv1D, Dense, Dropout, Lambda, concatenate\n",
        "\n",
        "# convert series to supervised learning\n",
        "def series_to_supervised(data, n_in=1, n_out=1, dropnan=True):\n",
        "\tn_vars = 1 if type(data) is list else data.shape[1]\n",
        "\tdf = DataFrame(data)\n",
        "\tcols, names = list(), list()\n",
        "\t# input sequence (t-n, ... t-1)\n",
        "\tfor i in range(n_in, 0, -1):\n",
        "\t\tcols.append(df.shift(i))\n",
        "\t\tnames += [('var%d(t-%d)' % (j+1, i)) for j in range(n_vars)]\n",
        "\t# forecast sequence (t, t+1, ... t+n)\n",
        "\tfor i in range(0, n_out):\n",
        "\t\tcols.append(df.shift(-i))\n",
        "\t\tif i == 0:\n",
        "\t\t\tnames += [('var%d(t)' % (j+1)) for j in range(n_vars)]\n",
        "\t\telse:\n",
        "\t\t\tnames += [('var%d(t+%d)' % (j+1, i)) for j in range(n_vars)]\n",
        "\t# put it all together\n",
        "\tagg = concat(cols, axis=1)\n",
        "\tagg.columns = names\n",
        "\t# drop rows with NaN values\n",
        "\tif dropnan:\n",
        "\t\tagg.dropna(inplace=True)\n",
        "\treturn agg\n",
        " \n",
        "# load dataset\n",
        "dataset = read_csv('/home/data.csv', header=0, index_col=0)\n",
        "values = dataset.values\n",
        "# integer encode direction\n",
        "encoder = LabelEncoder()\n",
        "values[:,4] = encoder.fit_transform(values[:,4])\n",
        "# ensure all data is float\n",
        "values = values.astype('float32')\n",
        "# normalize features\n",
        "scaler = MinMaxScaler(feature_range=(0, 1))\n",
        "scaled = scaler.fit_transform(values)\n",
        "# frame as supervised learning\n",
        "reframed = series_to_supervised(scaled, 1, 1)\n",
        "# drop columns we don't want to predict\n",
        "reframed.drop(reframed.columns[[6,7,8]], axis=1, inplace=True)\n",
        "print(reframed.head())"
      ]
    },
    {
      "cell_type": "markdown",
      "source": [
        ""
      ],
      "metadata": {
        "id": "9VmODEPWLZXU"
      }
    },
    {
      "cell_type": "code",
      "execution_count": 4,
      "metadata": {
        "colab": {
          "base_uri": "https://localhost:8080/"
        },
        "id": "AX3iHEOkTrm0",
        "outputId": "4d250d2d-f242-40ae-cec3-3cad73b50509"
      },
      "outputs": [
        {
          "output_type": "stream",
          "name": "stdout",
          "text": [
            "(525600, 1, 6) (525600,) (1006350, 1, 6) (1006350,)\n"
          ]
        }
      ],
      "source": [
        "# split into train and test sets, the last month's data is used as test and the rest are train\n",
        "values = reframed.values\n",
        "n_train_hours = 365 * 24*60\n",
        "train = values[:n_train_hours, :]\n",
        "test = values[n_train_hours:, :]\n",
        "# split into input and outputs\n",
        "train_X, train_y = train[:, 1:], train[:, 0]\n",
        "test_X, test_y = test[:, 1:], test[:, 0]\n",
        "# reshape input to be 3D [samples, timesteps, features]\n",
        "train_X = train_X.reshape((train_X.shape[0], 1, train_X.shape[1]))\n",
        "test_X = test_X.reshape((test_X.shape[0], 1, test_X.shape[1]))\n",
        "print(train_X.shape, train_y.shape, test_X.shape, test_y.shape)"
      ]
    },
    {
      "cell_type": "code",
      "execution_count": 5,
      "metadata": {
        "colab": {
          "base_uri": "https://localhost:8080/",
          "height": 1000
        },
        "id": "sHE94YTKT8pE",
        "outputId": "8358f190-57fb-4b7a-f4ee-f75b52123173"
      },
      "outputs": [
        {
          "output_type": "stream",
          "name": "stdout",
          "text": [
            "1 6\n",
            "Epoch 1/50\n",
            "7300/7300 - 49s - loss: 0.0225 - val_loss: 0.0451 - 49s/epoch - 7ms/step\n",
            "Epoch 2/50\n",
            "7300/7300 - 34s - loss: 0.0228 - val_loss: 0.0450 - 34s/epoch - 5ms/step\n",
            "Epoch 3/50\n",
            "7300/7300 - 33s - loss: 0.0228 - val_loss: 0.0450 - 33s/epoch - 5ms/step\n",
            "Epoch 4/50\n",
            "7300/7300 - 37s - loss: 0.0228 - val_loss: 0.0450 - 37s/epoch - 5ms/step\n",
            "Epoch 5/50\n",
            "7300/7300 - 33s - loss: 0.0228 - val_loss: 0.0450 - 33s/epoch - 5ms/step\n",
            "Epoch 6/50\n",
            "7300/7300 - 36s - loss: 0.0228 - val_loss: 0.0451 - 36s/epoch - 5ms/step\n",
            "Epoch 7/50\n",
            "7300/7300 - 36s - loss: 0.0228 - val_loss: 0.0450 - 36s/epoch - 5ms/step\n",
            "Epoch 8/50\n",
            "7300/7300 - 36s - loss: 0.0228 - val_loss: 0.0450 - 36s/epoch - 5ms/step\n",
            "Epoch 9/50\n",
            "7300/7300 - 34s - loss: 0.0228 - val_loss: 0.0451 - 34s/epoch - 5ms/step\n",
            "Epoch 10/50\n",
            "7300/7300 - 38s - loss: 0.0228 - val_loss: 0.0451 - 38s/epoch - 5ms/step\n",
            "Epoch 11/50\n",
            "7300/7300 - 37s - loss: 0.0228 - val_loss: 0.0450 - 37s/epoch - 5ms/step\n",
            "Epoch 12/50\n",
            "7300/7300 - 34s - loss: 0.0228 - val_loss: 0.0450 - 34s/epoch - 5ms/step\n",
            "Epoch 13/50\n",
            "7300/7300 - 36s - loss: 0.0228 - val_loss: 0.0450 - 36s/epoch - 5ms/step\n",
            "Epoch 14/50\n",
            "7300/7300 - 35s - loss: 0.0228 - val_loss: 0.0450 - 35s/epoch - 5ms/step\n",
            "Epoch 15/50\n",
            "7300/7300 - 35s - loss: 0.0228 - val_loss: 0.0451 - 35s/epoch - 5ms/step\n",
            "Epoch 16/50\n",
            "7300/7300 - 35s - loss: 0.0228 - val_loss: 0.0450 - 35s/epoch - 5ms/step\n",
            "Epoch 17/50\n",
            "7300/7300 - 37s - loss: 0.0228 - val_loss: 0.0450 - 37s/epoch - 5ms/step\n",
            "Epoch 18/50\n",
            "7300/7300 - 36s - loss: 0.0228 - val_loss: 0.0450 - 36s/epoch - 5ms/step\n",
            "Epoch 19/50\n",
            "7300/7300 - 36s - loss: 0.0228 - val_loss: 0.0450 - 36s/epoch - 5ms/step\n",
            "Epoch 20/50\n",
            "7300/7300 - 38s - loss: 0.0228 - val_loss: 0.0451 - 38s/epoch - 5ms/step\n",
            "Epoch 21/50\n",
            "7300/7300 - 36s - loss: 0.0228 - val_loss: 0.0450 - 36s/epoch - 5ms/step\n",
            "Epoch 22/50\n",
            "7300/7300 - 36s - loss: 0.0228 - val_loss: 0.0450 - 36s/epoch - 5ms/step\n",
            "Epoch 23/50\n",
            "7300/7300 - 35s - loss: 0.0228 - val_loss: 0.0451 - 35s/epoch - 5ms/step\n",
            "Epoch 24/50\n",
            "7300/7300 - 34s - loss: 0.0228 - val_loss: 0.0451 - 34s/epoch - 5ms/step\n",
            "Epoch 25/50\n",
            "7300/7300 - 36s - loss: 0.0228 - val_loss: 0.0450 - 36s/epoch - 5ms/step\n",
            "Epoch 26/50\n",
            "7300/7300 - 34s - loss: 0.0228 - val_loss: 0.0450 - 34s/epoch - 5ms/step\n",
            "Epoch 27/50\n",
            "7300/7300 - 37s - loss: 0.0228 - val_loss: 0.0450 - 37s/epoch - 5ms/step\n",
            "Epoch 28/50\n",
            "7300/7300 - 34s - loss: 0.0228 - val_loss: 0.0450 - 34s/epoch - 5ms/step\n",
            "Epoch 29/50\n",
            "7300/7300 - 37s - loss: 0.0228 - val_loss: 0.0451 - 37s/epoch - 5ms/step\n",
            "Epoch 30/50\n",
            "7300/7300 - 34s - loss: 0.0228 - val_loss: 0.0450 - 34s/epoch - 5ms/step\n",
            "Epoch 31/50\n",
            "7300/7300 - 36s - loss: 0.0228 - val_loss: 0.0450 - 36s/epoch - 5ms/step\n",
            "Epoch 32/50\n",
            "7300/7300 - 34s - loss: 0.0228 - val_loss: 0.0451 - 34s/epoch - 5ms/step\n",
            "Epoch 33/50\n",
            "7300/7300 - 36s - loss: 0.0228 - val_loss: 0.0451 - 36s/epoch - 5ms/step\n",
            "Epoch 34/50\n",
            "7300/7300 - 33s - loss: 0.0228 - val_loss: 0.0450 - 33s/epoch - 5ms/step\n",
            "Epoch 35/50\n",
            "7300/7300 - 36s - loss: 0.0228 - val_loss: 0.0450 - 36s/epoch - 5ms/step\n",
            "Epoch 36/50\n",
            "7300/7300 - 33s - loss: 0.0228 - val_loss: 0.0450 - 33s/epoch - 5ms/step\n",
            "Epoch 37/50\n",
            "7300/7300 - 37s - loss: 0.0228 - val_loss: 0.0450 - 37s/epoch - 5ms/step\n",
            "Epoch 38/50\n",
            "7300/7300 - 37s - loss: 0.0228 - val_loss: 0.0450 - 37s/epoch - 5ms/step\n",
            "Epoch 39/50\n",
            "7300/7300 - 34s - loss: 0.0228 - val_loss: 0.0450 - 34s/epoch - 5ms/step\n",
            "Epoch 40/50\n",
            "7300/7300 - 34s - loss: 0.0228 - val_loss: 0.0451 - 34s/epoch - 5ms/step\n",
            "Epoch 41/50\n",
            "7300/7300 - 34s - loss: 0.0228 - val_loss: 0.0451 - 34s/epoch - 5ms/step\n",
            "Epoch 42/50\n",
            "7300/7300 - 35s - loss: 0.0228 - val_loss: 0.0450 - 35s/epoch - 5ms/step\n",
            "Epoch 43/50\n",
            "7300/7300 - 37s - loss: 0.0228 - val_loss: 0.0450 - 37s/epoch - 5ms/step\n",
            "Epoch 44/50\n",
            "7300/7300 - 36s - loss: 0.0228 - val_loss: 0.0450 - 36s/epoch - 5ms/step\n",
            "Epoch 45/50\n",
            "7300/7300 - 35s - loss: 0.0228 - val_loss: 0.0450 - 35s/epoch - 5ms/step\n",
            "Epoch 46/50\n",
            "7300/7300 - 36s - loss: 0.0228 - val_loss: 0.0451 - 36s/epoch - 5ms/step\n",
            "Epoch 47/50\n",
            "7300/7300 - 35s - loss: 0.0228 - val_loss: 0.0450 - 35s/epoch - 5ms/step\n",
            "Epoch 48/50\n",
            "7300/7300 - 35s - loss: 0.0228 - val_loss: 0.0450 - 35s/epoch - 5ms/step\n",
            "Epoch 49/50\n",
            "7300/7300 - 38s - loss: 0.0228 - val_loss: 0.0451 - 38s/epoch - 5ms/step\n",
            "Epoch 50/50\n",
            "7300/7300 - 34s - loss: 0.0228 - val_loss: 0.0451 - 34s/epoch - 5ms/step\n"
          ]
        },
        {
          "output_type": "display_data",
          "data": {
            "text/plain": [
              "<Figure size 432x288 with 1 Axes>"
            ],
            "image/png": "[encoded data removed]"
          },
          "metadata": {
            "needs_background": "light"
          }
        }
      ],
      "source": [
        "# The baseline model that uses LSTM\n",
        "\n",
        "\n",
        "from numpy import array\n",
        "from numpy import hstack\n",
        "from keras.models import Sequential\n",
        "from keras.layers import Dense\n",
        "from keras.layers import Flatten\n",
        "from keras.layers.convolutional import Conv1D\n",
        "from keras.layers.convolutional import MaxPooling1D\n",
        "\n",
        "# design network\n",
        "model = Sequential()\n",
        "model.add(LSTM(50, input_shape=(train_X.shape[1], train_X.shape[2])))\n",
        "print(train_X.shape[1], train_X.shape[2])\n",
        "model.add(Dense(1))\n",
        "model.compile(loss='mae', optimizer='adam')\n",
        "# fit network\n",
        "history = model.fit(train_X, train_y, epochs=50, batch_size=72, validation_data=(test_X, test_y), verbose=2, shuffle=False)\n",
        "# plot history\n",
        "pyplot.plot(history.history['loss'], label='train')\n",
        "pyplot.plot(history.history['val_loss'], label='test')\n",
        "pyplot.legend()\n",
        "pyplot.show()"
      ]
    },
    {
      "cell_type": "code",
      "source": [
        "# make a prediction\n",
        "yhat = model.predict(test_X)\n",
        "# invert scaling for forecast\n",
        "rmse = sqrt(mean_squared_error(yhat, test_y))\n",
        "print('Test RMSE: %.2f' % rmse)"
      ],
      "metadata": {
        "id": "ak8WOblfcFPx"
      },
      "execution_count": null,
      "outputs": []
    },
    {
      "cell_type": "markdown",
      "source": [
        "Through the use of a separate cell controlled by input and forget gates, LSTMs enable long-term memory. This enables information to flow freely through a potentially infinite number of timesteps. Without these gates, information could easily vanish during each timestep's transformations.\n",
        "\n",
        "Convolutional networks, on the other hand, do not exhibit the same type of vanishing gradient, and we demonstrate experimentally that they do not require forget gates. As a result, we consider models with only output gates, which enable the network to determine which information should be propagated through the layer hierarchy."
      ],
      "metadata": {
        "id": "Tx4gUhNbQFRe"
      }
    },
    {
      "cell_type": "code",
      "execution_count": 7,
      "metadata": {
        "id": "epgW_c48UVuc"
      },
      "outputs": [],
      "source": [
        "class GatedActivationUnit(keras.layers.Layer):\n",
        "    def __init__(self, activation=\"tanh\", **kwargs):\n",
        "        super().__init__(**kwargs)\n",
        "        self.activation = keras.activations.get(activation)\n",
        "        \n",
        "    def get_config(self):\n",
        "        config = super().get_config().copy()\n",
        "        config.update({\n",
        "            'activation': self.activation,\n",
        "        })\n",
        "        return config \n",
        "    \n",
        "    def call(self, inputs):\n",
        "        n_filters = inputs.shape[-1] // 2\n",
        "        linear_output = self.activation(inputs[..., :n_filters])\n",
        "        gate = keras.activations.sigmoid(inputs[..., n_filters:])\n",
        "        return self.activation(linear_output) * gate"
      ]
    },
    {
      "cell_type": "markdown",
      "metadata": {
        "id": "FHyHCRselVH0"
      },
      "source": [
        "## The Ubernet architecture"
      ]
    },
    {
      "cell_type": "code",
      "execution_count": 8,
      "metadata": {
        "colab": {
          "base_uri": "https://localhost:8080/",
          "height": 1000
        },
        "id": "3uf_UgJpIrXI",
        "outputId": "67688a4c-d53a-423a-aa87-5ab21744e859"
      },
      "outputs": [
        {
          "output_type": "stream",
          "name": "stdout",
          "text": [
            "Epoch 1/50\n",
            "7300/7300 - 40s - loss: 0.0227 - val_loss: 0.0518 - 40s/epoch - 5ms/step\n",
            "Epoch 2/50\n",
            "7300/7300 - 40s - loss: 0.0237 - val_loss: 0.0474 - 40s/epoch - 5ms/step\n",
            "Epoch 3/50\n",
            "7300/7300 - 34s - loss: 0.0242 - val_loss: 0.0474 - 34s/epoch - 5ms/step\n",
            "Epoch 4/50\n",
            "7300/7300 - 44s - loss: 0.0242 - val_loss: 0.0474 - 44s/epoch - 6ms/step\n",
            "Epoch 5/50\n",
            "7300/7300 - 38s - loss: 0.0242 - val_loss: 0.0474 - 38s/epoch - 5ms/step\n",
            "Epoch 6/50\n",
            "7300/7300 - 42s - loss: 0.0242 - val_loss: 0.0474 - 42s/epoch - 6ms/step\n",
            "Epoch 7/50\n",
            "7300/7300 - 41s - loss: 0.0242 - val_loss: 0.0476 - 41s/epoch - 6ms/step\n",
            "Epoch 8/50\n",
            "7300/7300 - 39s - loss: 0.0242 - val_loss: 0.0474 - 39s/epoch - 5ms/step\n",
            "Epoch 9/50\n",
            "7300/7300 - 38s - loss: 0.0242 - val_loss: 0.0477 - 38s/epoch - 5ms/step\n",
            "Epoch 10/50\n",
            "7300/7300 - 56s - loss: 0.0242 - val_loss: 0.0474 - 56s/epoch - 8ms/step\n",
            "Epoch 11/50\n",
            "7300/7300 - 36s - loss: 0.0242 - val_loss: 0.0474 - 36s/epoch - 5ms/step\n",
            "Epoch 12/50\n",
            "7300/7300 - 41s - loss: 0.0242 - val_loss: 0.0474 - 41s/epoch - 6ms/step\n",
            "Epoch 13/50\n",
            "7300/7300 - 37s - loss: 0.0242 - val_loss: 0.0474 - 37s/epoch - 5ms/step\n",
            "Epoch 14/50\n",
            "7300/7300 - 49s - loss: 0.0242 - val_loss: 0.0475 - 49s/epoch - 7ms/step\n",
            "Epoch 15/50\n",
            "7300/7300 - 40s - loss: 0.0242 - val_loss: 0.0474 - 40s/epoch - 6ms/step\n",
            "Epoch 16/50\n",
            "7300/7300 - 35s - loss: 0.0242 - val_loss: 0.0474 - 35s/epoch - 5ms/step\n",
            "Epoch 17/50\n",
            "7300/7300 - 43s - loss: 0.0242 - val_loss: 0.0474 - 43s/epoch - 6ms/step\n",
            "Epoch 18/50\n",
            "7300/7300 - 42s - loss: 0.0242 - val_loss: 0.0474 - 42s/epoch - 6ms/step\n",
            "Epoch 19/50\n",
            "7300/7300 - 45s - loss: 0.0242 - val_loss: 0.0474 - 45s/epoch - 6ms/step\n",
            "Epoch 20/50\n",
            "7300/7300 - 35s - loss: 0.0242 - val_loss: 0.0475 - 35s/epoch - 5ms/step\n",
            "Epoch 21/50\n",
            "7300/7300 - 34s - loss: 0.0242 - val_loss: 0.0474 - 34s/epoch - 5ms/step\n",
            "Epoch 22/50\n",
            "7300/7300 - 33s - loss: 0.0242 - val_loss: 0.0474 - 33s/epoch - 5ms/step\n",
            "Epoch 23/50\n",
            "7300/7300 - 33s - loss: 0.0242 - val_loss: 0.0474 - 33s/epoch - 5ms/step\n",
            "Epoch 24/50\n",
            "7300/7300 - 33s - loss: 0.0242 - val_loss: 0.0477 - 33s/epoch - 5ms/step\n",
            "Epoch 25/50\n",
            "7300/7300 - 39s - loss: 0.0241 - val_loss: 0.0474 - 39s/epoch - 5ms/step\n",
            "Epoch 26/50\n",
            "7300/7300 - 34s - loss: 0.0242 - val_loss: 0.0474 - 34s/epoch - 5ms/step\n",
            "Epoch 27/50\n",
            "7300/7300 - 33s - loss: 0.0242 - val_loss: 0.0476 - 33s/epoch - 5ms/step\n",
            "Epoch 28/50\n",
            "7300/7300 - 40s - loss: 0.0242 - val_loss: 0.0474 - 40s/epoch - 6ms/step\n",
            "Epoch 29/50\n",
            "7300/7300 - 39s - loss: 0.0242 - val_loss: 0.0476 - 39s/epoch - 5ms/step\n",
            "Epoch 30/50\n",
            "7300/7300 - 36s - loss: 0.0242 - val_loss: 0.0474 - 36s/epoch - 5ms/step\n",
            "Epoch 31/50\n",
            "7300/7300 - 39s - loss: 0.0242 - val_loss: 0.0476 - 39s/epoch - 5ms/step\n",
            "Epoch 32/50\n",
            "7300/7300 - 39s - loss: 0.0242 - val_loss: 0.0474 - 39s/epoch - 5ms/step\n",
            "Epoch 33/50\n",
            "7300/7300 - 39s - loss: 0.0242 - val_loss: 0.0476 - 39s/epoch - 5ms/step\n",
            "Epoch 34/50\n",
            "7300/7300 - 42s - loss: 0.0242 - val_loss: 0.0474 - 42s/epoch - 6ms/step\n",
            "Epoch 35/50\n",
            "7300/7300 - 35s - loss: 0.0242 - val_loss: 0.0476 - 35s/epoch - 5ms/step\n",
            "Epoch 36/50\n",
            "7300/7300 - 35s - loss: 0.0242 - val_loss: 0.0474 - 35s/epoch - 5ms/step\n",
            "Epoch 37/50\n",
            "7300/7300 - 41s - loss: 0.0242 - val_loss: 0.0476 - 41s/epoch - 6ms/step\n",
            "Epoch 38/50\n",
            "7300/7300 - 38s - loss: 0.0242 - val_loss: 0.0474 - 38s/epoch - 5ms/step\n",
            "Epoch 39/50\n",
            "7300/7300 - 36s - loss: 0.0242 - val_loss: 0.0476 - 36s/epoch - 5ms/step\n",
            "Epoch 40/50\n",
            "7300/7300 - 42s - loss: 0.0242 - val_loss: 0.0474 - 42s/epoch - 6ms/step\n",
            "Epoch 41/50\n",
            "7300/7300 - 38s - loss: 0.0242 - val_loss: 0.0476 - 38s/epoch - 5ms/step\n",
            "Epoch 42/50\n",
            "7300/7300 - 41s - loss: 0.0242 - val_loss: 0.0474 - 41s/epoch - 6ms/step\n",
            "Epoch 43/50\n",
            "7300/7300 - 36s - loss: 0.0242 - val_loss: 0.0476 - 36s/epoch - 5ms/step\n",
            "Epoch 44/50\n",
            "7300/7300 - 39s - loss: 0.0242 - val_loss: 0.0474 - 39s/epoch - 5ms/step\n",
            "Epoch 45/50\n",
            "7300/7300 - 35s - loss: 0.0242 - val_loss: 0.0476 - 35s/epoch - 5ms/step\n",
            "Epoch 46/50\n",
            "7300/7300 - 39s - loss: 0.0242 - val_loss: 0.0474 - 39s/epoch - 5ms/step\n",
            "Epoch 47/50\n",
            "7300/7300 - 35s - loss: 0.0242 - val_loss: 0.0476 - 35s/epoch - 5ms/step\n",
            "Epoch 48/50\n",
            "7300/7300 - 36s - loss: 0.0242 - val_loss: 0.0474 - 36s/epoch - 5ms/step\n",
            "Epoch 49/50\n",
            "7300/7300 - 35s - loss: 0.0242 - val_loss: 0.0476 - 35s/epoch - 5ms/step\n",
            "Epoch 50/50\n",
            "7300/7300 - 37s - loss: 0.0242 - val_loss: 0.0474 - 37s/epoch - 5ms/step\n"
          ]
        },
        {
          "output_type": "display_data",
          "data": {
            "text/plain": [
              "<Figure size 432x288 with 1 Axes>"
            ],
            "image/png": "[encoded data removed]"
          },
          "metadata": {
            "needs_background": "light"
          }
        }
      ],
      "source": [
        "#p = \"valid\" \n",
        "from keras.models import Sequential\n",
        "from keras.layers import Dense\n",
        "from keras.layers import LSTM\n",
        "from keras.models import Model\n",
        "from tensorflow.keras.optimizers import Adam\n",
        "# from keras.layers.normalization import BatchNormalization\n",
        "p='causal' # this only works in 1.12+ -- December 2018+\n",
        "\n",
        "model2 = Sequential([\n",
        "    #Conv1D(filters=n_filters, kernel_size=filter_width, padding='causal', dilation_rate=1),\n",
        "    # padding= One of \"valid\" or \"same\"\n",
        "    #Input(shape=(None, 1)), \n",
        "    #Input(shape=(None, num_x_signals)), This is not for Sequential\n",
        "    Conv1D(filters=32, input_shape=( None, train_X.shape[2]), \n",
        "           kernel_size=1, padding='causal', dilation_rate=1),\n",
        "    # BatchNormalization(),\n",
        "    GatedActivationUnit(),\n",
        "    Dropout(.5),\n",
        "    Conv1D(filters=32, kernel_size=1, padding=p, dilation_rate=4),\n",
        "    GatedActivationUnit(),\n",
        "    # BatchNormalization(),\n",
        "    Dropout(.5),\n",
        "    Conv1D(filters=32, kernel_size=1, padding=p, dilation_rate=8),\n",
        "    Dense(50, activation=\"relu\"), #model.add(Dense(num_y_signals, activation=\"tanh\"))   #'sigmoid'))\n",
        "    Dropout(.2),\n",
        "    Dense(1, activation=\"tanh\") \n",
        "    #Dense(1),\n",
        "    \n",
        "])\n",
        "\n",
        "\n",
        "#optimizer = tf.train.RMSPropOptimizer(0.001)\n",
        "\n",
        "model2.compile(Adam(), loss='mean_absolute_error')\n",
        "\n",
        "# fit network\n",
        "history = model2.fit(train_X, train_y, epochs=50, batch_size=72, validation_data=(test_X, test_y), verbose=2, shuffle=False)\n",
        "# plot history\n",
        "pyplot.plot(history.history['loss'], label='train')\n",
        "pyplot.plot(history.history['val_loss'], label='test')\n",
        "pyplot.legend()\n",
        "pyplot.show()\n"
      ]
    },
    {
      "cell_type": "code",
      "source": [
        "yhat = model2.predict(test_X)\n",
        "yhat = yhat.reshape(yhat.shape[0])\n",
        "# invert scaling for forecast\n",
        "rmse = sqrt(mean_squared_error(yhat, test_y))\n",
        "print('Test RMSE: %.3f' % rmse)"
      ],
      "metadata": {
        "colab": {
          "base_uri": "https://localhost:8080/"
        },
        "id": "K0OerguRdhCj",
        "outputId": "86142ac8-bf99-4d2b-e156-1ed7078b4bed"
      },
      "execution_count": 27,
      "outputs": [
        {
          "output_type": "stream",
          "name": "stdout",
          "text": [
            "Test RMSE: 0.132\n"
          ]
        }
      ]
    },
    {
      "cell_type": "code",
      "source": [
        ""
      ],
      "metadata": {
        "id": "3kh7znERevzD"
      },
      "execution_count": null,
      "outputs": []
    }
  ],
  "metadata": {
    "colab": {
      "name": "2-wavenet-swa.ipynb",
      "provenance": []
    },
    "kernelspec": {
      "display_name": "Python 2",
      "language": "python",
      "name": "python2"
    },
    "language_info": {
      "codemirror_mode": {
        "name": "ipython",
        "version": 2
      },
      "file_extension": ".py",
      "mimetype": "text/x-python",
      "name": "python",
      "nbconvert_exporter": "python",
      "pygments_lexer": "ipython2",
      "version": "2.7.15"
    }
  },
  "nbformat": 4,
  "nbformat_minor": 0
}